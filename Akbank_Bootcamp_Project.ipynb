{
 "cells": [
  {
   "cell_type": "code",
   "execution_count": 1,
   "id": "7af4268e",
   "metadata": {},
   "outputs": [],
   "source": [
    "import csv\n",
    "import datetime\n",
    "import time\n",
    "import pandas as pd"
   ]
  },
  {
   "cell_type": "code",
   "execution_count": 2,
   "id": "16b5266e",
   "metadata": {},
   "outputs": [],
   "source": [
    "class Pizza():\n",
    "    def __init__(self):\n",
    "        self.__costList=int()\n",
    "        self.__description=str()\n",
    "    def get_cost(self):\n",
    "        return self.__costList\n",
    "    def get_description(self):\n",
    "        return self.__description\n",
    "    def add_cost(self,cost):\n",
    "        self.__costList=cost\n",
    "    def add_description(self,desc):\n",
    "        self.__description=desc"
   ]
  },
  {
   "cell_type": "markdown",
   "id": "7ff90118",
   "metadata": {},
   "source": [
    "# PIZZA CESIDI"
   ]
  },
  {
   "cell_type": "code",
   "execution_count": 3,
   "id": "952dca5c",
   "metadata": {},
   "outputs": [],
   "source": [
    "class Klasik(Pizza):\n",
    "    def __init__(self):\n",
    "        self.price=100\n",
    "        self.description=\"Klasik\"\n",
    "        Pizza.__init__(self)\n",
    "    #def get_cost(self):\n",
    "        #return Pizza.get_cost(self)\n",
    "    def get_total(self):\n",
    "        return Pizza.get_cost(self)"
   ]
  },
  {
   "cell_type": "code",
   "execution_count": 4,
   "id": "4fbc537d",
   "metadata": {},
   "outputs": [],
   "source": [
    "class Margarita(Pizza):\n",
    "    def __init__(self):\n",
    "        self.price=120\n",
    "        self.description=\"Margarita\"\n",
    "        Pizza.__init__(self)\n",
    "    #def get_cost(self):\n",
    "        #return Pizza.get_cost(self)\n",
    "    def get_total(self):\n",
    "        return Pizza.get_cost(self)"
   ]
  },
  {
   "cell_type": "code",
   "execution_count": 5,
   "id": "cbc72bac",
   "metadata": {},
   "outputs": [],
   "source": [
    "class TurkPizza(Pizza):\n",
    "    def __init__(self):\n",
    "        self.price=180\n",
    "        self.description=\"TurkPizza\"\n",
    "        Pizza.__init__(self)\n",
    "    #def get_cost(self):\n",
    "        #return Pizza.get_cost(self)\n",
    "    def get_total(self):\n",
    "        return Pizza.get_cost(self)"
   ]
  },
  {
   "cell_type": "code",
   "execution_count": 6,
   "id": "48609e94",
   "metadata": {},
   "outputs": [],
   "source": [
    "class SadePizza(Pizza):\n",
    "    def __init__(self):\n",
    "        self.price=150\n",
    "        self.description=\"Sade Pizza\"\n",
    "        Pizza.__init__(self)\n",
    "    #def get_cost(self):\n",
    "        #return Pizza.get_cost(self)\n",
    "    def get_total(self):\n",
    "        return Pizza.get_cost(self)"
   ]
  },
  {
   "cell_type": "code",
   "execution_count": null,
   "id": "edda6acc",
   "metadata": {},
   "outputs": [],
   "source": []
  },
  {
   "cell_type": "code",
   "execution_count": 7,
   "id": "88524182",
   "metadata": {},
   "outputs": [],
   "source": [
    "class Decorator(Pizza):\n",
    "    def __init__(self):\n",
    "        Pizza.__init__(self)\n",
    "    def get_total(self):\n",
    "        return self.get_cost()"
   ]
  },
  {
   "cell_type": "code",
   "execution_count": 8,
   "id": "81d5e2d8",
   "metadata": {},
   "outputs": [],
   "source": [
    "class Zeytin(Decorator):\n",
    "    def __init__(self):\n",
    "        self.price=10\n",
    "        self.description=\"Zeytinli\"\n",
    "        Decorator.__init__(self)"
   ]
  },
  {
   "cell_type": "code",
   "execution_count": 9,
   "id": "76185d72",
   "metadata": {},
   "outputs": [],
   "source": [
    "class Mantarlar(Decorator):\n",
    "    def __init__(self):\n",
    "        self.price=12\n",
    "        self.description=\"Mantarlar\"\n",
    "        Decorator.__init__(self)"
   ]
  },
  {
   "cell_type": "code",
   "execution_count": 10,
   "id": "ba17c9fc",
   "metadata": {},
   "outputs": [],
   "source": [
    "class Keci_Peyniri(Decorator):\n",
    "    def __init__(self):\n",
    "        self.price=15\n",
    "        self.description=\"Keci Peyniri\"\n",
    "        Decorator.__init__(self)"
   ]
  },
  {
   "cell_type": "code",
   "execution_count": 11,
   "id": "e87bd624",
   "metadata": {},
   "outputs": [],
   "source": [
    "class Et(Decorator):\n",
    "    def __init__(self):\n",
    "        self.price=25\n",
    "        self.description=\"Et\"\n",
    "        Decorator.__init__(self)"
   ]
  },
  {
   "cell_type": "code",
   "execution_count": 12,
   "id": "ea16ebb3",
   "metadata": {},
   "outputs": [],
   "source": [
    "class Sogan(Decorator):\n",
    "    def __init__(self):\n",
    "        self.price=7\n",
    "        self.description=\"Sogan\"\n",
    "        Decorator.__init__(self)"
   ]
  },
  {
   "cell_type": "code",
   "execution_count": 13,
   "id": "1f24c604",
   "metadata": {},
   "outputs": [],
   "source": [
    "class Misir(Decorator):\n",
    "    def __init__(self):\n",
    "        self.price=9\n",
    "        self.description=\"Misir\"\n",
    "        Decorator.__init__(self)"
   ]
  },
  {
   "cell_type": "code",
   "execution_count": null,
   "id": "17b4032d",
   "metadata": {},
   "outputs": [],
   "source": []
  },
  {
   "cell_type": "markdown",
   "id": "d8c26fb5",
   "metadata": {},
   "source": [
    "# MAIN"
   ]
  },
  {
   "cell_type": "code",
   "execution_count": 14,
   "id": "f534bc5e",
   "metadata": {},
   "outputs": [],
   "source": [
    "def pizza_siparis():\n",
    "    global p_price\n",
    "    global pName\n",
    "    _pizza_secim=int(input(\"Pizza Secimi:\"))\n",
    "    if 0<_pizza_secim<5:\n",
    "        #print(\"1 ile 4 arasindan bir pizza secimi \", pizza_secim)\n",
    "        if _pizza_secim==1:\n",
    "            #print(\"Klasik\")\n",
    "            kk=Klasik()\n",
    "            kk.add_cost(kk.price)\n",
    "            kk.add_description(kk.description)\n",
    "            print(kk.get_description(),\"fiyat:\",kk.get_cost(),\"TL\")\n",
    "            p_price=kk.get_cost()\n",
    "            pName=kk.get_description()\n",
    "            \n",
    "        elif _pizza_secim==2:\n",
    "            #print(\"Margarita\")\n",
    "            mm=Margarita()\n",
    "            mm.add_cost(mm.price)\n",
    "            mm.add_description(mm.description)\n",
    "            print(mm.get_description(),\"fiyat:\",mm.get_cost(),\"TL\")\n",
    "            p_price=mm.get_cost()\n",
    "            pName=mm.get_description()\n",
    "            \n",
    "        elif _pizza_secim==3:\n",
    "            #print(\"TurkPizza\")\n",
    "            tt=TurkPizza()\n",
    "            tt.add_cost(tt.price)\n",
    "            tt.add_description(tt.description)\n",
    "            print(tt.get_description(),\"fiyat:\",tt.get_cost(),\"TL\")\n",
    "            p_price=tt.get_cost()\n",
    "            pName=tt.get_description()\n",
    "            \n",
    "        elif _pizza_secim==4:\n",
    "            print(\"SadePizza\")\n",
    "            tt=SadePizza()\n",
    "            tt.add_cost(tt.price)\n",
    "            tt.add_description(tt.description)\n",
    "            print(tt.get_description(),\"fiyat:\",tt.get_cost(),\"TL\")\n",
    "            p_price=tt.get_cost()\n",
    "            pName=tt.get_description()\n",
    "            \n",
    "    else:\n",
    "        print(\"Lutfen 1 ile 4 arasindan bir secim yapiniz!!!\")"
   ]
  },
  {
   "cell_type": "code",
   "execution_count": 15,
   "id": "cc378f5a",
   "metadata": {},
   "outputs": [],
   "source": [
    "def sos_secim():\n",
    "    global s_price\n",
    "    global sosName\n",
    "    sos_secim=int(input(\"Sos Secimi:\"))\n",
    "    if 10<sos_secim<17:\n",
    "        #print(\"Sos Secimi\")\n",
    "        if sos_secim==11:\n",
    "            ss=Decorator()\n",
    "            zz=Zeytin()\n",
    "            ss.add_description(zz.description)\n",
    "            ss.add_cost(zz.price)\n",
    "            print(ss.get_description(),\"Fiyat:\",ss.get_cost(),\"TL\")\n",
    "            s_price=ss.get_cost()\n",
    "            sosName=ss.get_description()\n",
    "            \n",
    "        elif sos_secim==12:\n",
    "            print(\"Mantarlar\")\n",
    "            ss=Decorator()\n",
    "            zz=Mantarlar()\n",
    "            ss.add_description(zz.description)\n",
    "            ss.add_cost(zz.price)\n",
    "            print(ss.get_description(),\"Fiyat:\",ss.get_cost(),\"TL\")\n",
    "            s_price=ss.get_cost()\n",
    "            sosName=ss.get_description()\n",
    "        \n",
    "        elif sos_secim==13:\n",
    "            print(\"Keci Peyniri\")\n",
    "            ss=Decorator()\n",
    "            zz=Keci_Peyniri()\n",
    "            ss.add_description(zz.description)\n",
    "            ss.add_cost(zz.price)\n",
    "            print(ss.get_description(),\"Fiyat:\",ss.get_cost(),\"TL\")\n",
    "            s_price=ss.get_cost()\n",
    "            sosName=ss.get_description()\n",
    "        \n",
    "        elif sos_secim==14:\n",
    "            print(\"Et\")\n",
    "            ss=Decorator()\n",
    "            zz=Et()\n",
    "            ss.add_description(zz.description)\n",
    "            ss.add_cost(zz.price)\n",
    "            print(ss.get_description(),\"Fiyat:\",ss.get_cost(),\"TL\")\n",
    "            s_price=ss.get_cost()\n",
    "            sosName=ss.get_description()\n",
    "        \n",
    "        elif sos_secim==15:\n",
    "            print(\"Sogan\")\n",
    "            ss=Decorator()\n",
    "            zz=Sogan()\n",
    "            ss.add_description(zz.description)\n",
    "            ss.add_cost(zz.price)\n",
    "            print(ss.get_description(),\"Fiyat:\",ss.get_cost(),\"TL\")\n",
    "            s_price=ss.get_cost()\n",
    "            sosName=ss.get_description()\n",
    "        \n",
    "        elif sos_secim==16:\n",
    "            print(\"Misir\")\n",
    "            ss=Decorator()\n",
    "            zz=Misir()\n",
    "            ss.add_description(zz.description)\n",
    "            ss.add_cost(zz.price)\n",
    "            print(ss.get_description(),\"Fiyat:\",ss.get_cost(),\"TL\")\n",
    "            s_price=ss.get_cost()\n",
    "            sosName=ss.get_description()\n",
    "            \n",
    "        else:\n",
    "            print(\"Lutfen 11 ile 16 arasindan bir secim yapiniz!!!\")"
   ]
  },
  {
   "cell_type": "code",
   "execution_count": null,
   "id": "7afcfe10",
   "metadata": {},
   "outputs": [],
   "source": []
  },
  {
   "cell_type": "code",
   "execution_count": 20,
   "id": "403737c6",
   "metadata": {},
   "outputs": [],
   "source": [
    "def __main__():\n",
    "    f=open('menu.txt','r')\n",
    "    [print(i) for i in f.readlines()]\n",
    "    print(\"*\"*50)\n",
    "    pizza_siparis()\n",
    "    sos_secim()\n",
    "    print(pName,sosName,\"Toplam Fiyat:\",p_price+s_price,\"TL\")\n",
    "    print(\"*\"*50)\n",
    "    #zaman bilgileri\n",
    "    seconds=time.time()\n",
    "    local_time=time.ctime(seconds)    \n",
    "    #Musteri Bilgileri\n",
    "    customer_Order=[]\n",
    "\n",
    "    customer_Order.append(pName)\n",
    "    customer_Order.append(sosName)\n",
    "    customer_Order.append(local_time)\n",
    "    customer_Order.append(input(\"Musteri Adi: \"))\n",
    "    customer_Order.append(input(\"TC Kimlik No: \"))\n",
    "    customer_Order.append(input(\"Kredi Karti No: \"))\n",
    "    customer_Order.append(input(\"Kart Sifrei: \"))\n",
    "    cInfo=pd.DataFrame(customer_Order)\n",
    "    cInfo.to_csv('Orders_Database.csv')\n",
    "    print(\"*\"*50)\n",
    "    print(\"SIPARISINIZ HAZIRLANIYOR...\")"
   ]
  },
  {
   "cell_type": "code",
   "execution_count": 21,
   "id": "305a9a43",
   "metadata": {},
   "outputs": [
    {
     "name": "stdout",
     "output_type": "stream",
     "text": [
      "* Lutfen Bir Pizza Tabani Seciniz:\n",
      "\n",
      "1: Klasik\n",
      "\n",
      "2: Margarita\n",
      "\n",
      "3: TurkPizza\n",
      "\n",
      "4: Sade Pizza\n",
      "\n",
      "* ve sececeginiz sos:\n",
      "\n",
      "11: Zeytin\n",
      "\n",
      "12: Mantarlar\n",
      "\n",
      "13: Keci Peyniri\n",
      "\n",
      "14: Et\n",
      "\n",
      "15: Sogan\n",
      "\n",
      "16: Misir\n",
      "\n",
      "* Tesekkur ederiz!\n",
      "**************************************************\n",
      "Pizza Secimi:1\n",
      "Klasik fiyat: 100 TL\n",
      "Sos Secimi:11\n",
      "Zeytinli Fiyat: 10 TL\n",
      "Klasik Zeytinli Toplam Fiyat: 110 TL\n",
      "**************************************************\n",
      "Musteri Adi: okke\n",
      "TC Kimlik No: 111\n",
      "Kredi Karti No: 2\n",
      "Kart Sifrei: 11\n",
      "**************************************************\n",
      "SIPARISINIZ HAZIRLANIYOR...\n"
     ]
    }
   ],
   "source": [
    "__main__()"
   ]
  },
  {
   "cell_type": "code",
   "execution_count": null,
   "id": "1ffb272b",
   "metadata": {},
   "outputs": [],
   "source": []
  },
  {
   "cell_type": "code",
   "execution_count": null,
   "id": "249d803c",
   "metadata": {},
   "outputs": [],
   "source": []
  }
 ],
 "metadata": {
  "kernelspec": {
   "display_name": "Python 3 (ipykernel)",
   "language": "python",
   "name": "python3"
  },
  "language_info": {
   "codemirror_mode": {
    "name": "ipython",
    "version": 3
   },
   "file_extension": ".py",
   "mimetype": "text/x-python",
   "name": "python",
   "nbconvert_exporter": "python",
   "pygments_lexer": "ipython3",
   "version": "3.9.13"
  }
 },
 "nbformat": 4,
 "nbformat_minor": 5
}
